{
 "cells": [
  {
   "cell_type": "code",
   "execution_count": 1,
   "metadata": {},
   "outputs": [
    {
     "name": "stderr",
     "output_type": "stream",
     "text": [
      "/home/paperspace/env/lib/python3.11/site-packages/tqdm/auto.py:21: TqdmWarning: IProgress not found. Please update jupyter and ipywidgets. See https://ipywidgets.readthedocs.io/en/stable/user_install.html\n",
      "  from .autonotebook import tqdm as notebook_tqdm\n",
      "Loading checkpoint shards: 100%|██████████| 3/3 [00:01<00:00,  1.94it/s]\n"
     ]
    }
   ],
   "source": [
    "import torch\n",
    "from transformers import AutoModelForCausalLM\n",
    "\n",
    "model = AutoModelForCausalLM.from_pretrained(\n",
    "    \"mistralai/Mistral-7B-Instruct-v0.2\",\n",
    "    torch_dtype=torch.bfloat16,\n",
    ")\n",
    "model = model.to(\"cuda\")"
   ]
  },
  {
   "cell_type": "code",
   "execution_count": 2,
   "metadata": {},
   "outputs": [],
   "source": [
    "from typing import Tuple\n",
    "\n",
    "def per_tensor_quantize(tensor: torch.Tensor) -> Tuple[torch.Tensor, float]:\n",
    "    \"\"\"Quantize a tensor using per-tensor static scaling factor.\n",
    "\n",
    "    Args:\n",
    "        tensor: The input tensor.\n",
    "    \"\"\"\n",
    "    finfo = torch.finfo(torch.float8_e4m3fn)\n",
    "    # Calculate the scale as dtype max divided by absmax.\n",
    "    # Since .abs() creates a new tensor, we use aminmax to get\n",
    "    # the min and max first and then calculate the absmax.\n",
    "    min_val, max_val = tensor.aminmax()\n",
    "    amax = min_val.abs().max(max_val.abs())\n",
    "    scale = finfo.max / amax.clamp(min=1e-12)\n",
    "    # scale and clamp the tensor to bring it to\n",
    "    # the representative range of float8 data type\n",
    "    # (as default cast is unsaturated)\n",
    "    qweight = (tensor * scale).clamp(min=finfo.min, max=finfo.max)\n",
    "    # Return both float8 data and the inverse scale (as float),\n",
    "    # as both required as inputs to torch._scaled_mm\n",
    "    qweight = qweight.to(torch.float8_e4m3fn)\n",
    "    scale = scale.float().reciprocal()\n",
    "    return qweight, scale"
   ]
  },
  {
   "cell_type": "code",
   "execution_count": 3,
   "metadata": {},
   "outputs": [],
   "source": [
    "class LinearFP8(torch.nn.Module):\n",
    "    def __init__(self, qweight, scale):\n",
    "        super().__init__()\n",
    "        self.weight = torch.nn.Parameter(qweight, requires_grad=False)\n",
    "        self.weight_scale = torch.nn.Parameter(scale, requires_grad=False)\n",
    "    \n",
    "    def forward(self, x):\n",
    "        shape = x.shape\n",
    "        x = x.reshape(-1, shape[-1])\n",
    "        qinput, x_scale = per_tensor_quantize(x)\n",
    "        \n",
    "        output, _ = torch._scaled_mm(\n",
    "            qinput,\n",
    "            self.weight.t(),\n",
    "            out_dtype=x.dtype,\n",
    "            scale_a=x_scale,\n",
    "            scale_b=self.weight_scale,\n",
    "            bias=None,\n",
    "        )\n",
    "        return output.reshape(shape[0], shape[1], -1)"
   ]
  },
  {
   "cell_type": "code",
   "execution_count": 4,
   "metadata": {},
   "outputs": [],
   "source": [
    "SELF_ATTN_WEIGHTS = [\"q_proj\", \"k_proj\", \"v_proj\", \"o_proj\"]\n",
    "MLP_WEIGHTS = [\"gate_proj\", \"up_proj\", \"down_proj\"]\n",
    "\n",
    "def quantize_proj(module, proj_name):\n",
    "    proj = getattr(module, proj_name)\n",
    "    quant_weight, quant_scale = per_tensor_quantize(proj.weight)\n",
    "    quant_proj = LinearFP8(quant_weight, quant_scale)\n",
    "    \n",
    "    del proj\n",
    "    setattr(module, proj_name, quant_proj)\n",
    "\n",
    "for layer in model.model.layers:\n",
    "    for proj_name in SELF_ATTN_WEIGHTS:\n",
    "        quantize_proj(layer.self_attn, proj_name)\n",
    "    for proj_name in MLP_WEIGHTS:\n",
    "        quantize_proj(layer.mlp, proj_name)"
   ]
  },
  {
   "cell_type": "code",
   "execution_count": 5,
   "metadata": {},
   "outputs": [
    {
     "data": {
      "text/plain": [
       "MistralForCausalLM(\n",
       "  (model): MistralModel(\n",
       "    (embed_tokens): Embedding(32000, 4096)\n",
       "    (layers): ModuleList(\n",
       "      (0-31): 32 x MistralDecoderLayer(\n",
       "        (self_attn): MistralSdpaAttention(\n",
       "          (q_proj): LinearFP8()\n",
       "          (k_proj): LinearFP8()\n",
       "          (v_proj): LinearFP8()\n",
       "          (o_proj): LinearFP8()\n",
       "          (rotary_emb): MistralRotaryEmbedding()\n",
       "        )\n",
       "        (mlp): MistralMLP(\n",
       "          (gate_proj): LinearFP8()\n",
       "          (up_proj): LinearFP8()\n",
       "          (down_proj): LinearFP8()\n",
       "          (act_fn): SiLU()\n",
       "        )\n",
       "        (input_layernorm): MistralRMSNorm()\n",
       "        (post_attention_layernorm): MistralRMSNorm()\n",
       "      )\n",
       "    )\n",
       "    (norm): MistralRMSNorm()\n",
       "  )\n",
       "  (lm_head): Linear(in_features=4096, out_features=32000, bias=False)\n",
       ")"
      ]
     },
     "execution_count": 5,
     "metadata": {},
     "output_type": "execute_result"
    }
   ],
   "source": [
    "model"
   ]
  },
  {
   "cell_type": "code",
   "execution_count": 6,
   "metadata": {},
   "outputs": [],
   "source": [
    "from transformers import AutoTokenizer\n",
    "tokenizer = AutoTokenizer.from_pretrained(\n",
    "    \"mistralai/Mistral-7B-Instruct-v0.2\"\n",
    ")\n",
    "tokenizer.pad_token_id = tokenizer.eos_token_id"
   ]
  },
  {
   "cell_type": "code",
   "execution_count": 7,
   "metadata": {},
   "outputs": [],
   "source": [
    "input_ids = tokenizer.apply_chat_template(\n",
    "    [{\"role\": \"user\", \"content\": \"What is your name?\" }],\n",
    "    return_tensors=\"pt\"\n",
    ").to(\"cuda\")"
   ]
  },
  {
   "cell_type": "code",
   "execution_count": 8,
   "metadata": {},
   "outputs": [
    {
     "name": "stderr",
     "output_type": "stream",
     "text": [
      "The attention mask and the pad token id were not set. As a consequence, you may observe unexpected behavior. Please pass your input's `attention_mask` to obtain reliable results.\n",
      "Setting `pad_token_id` to `eos_token_id`:2 for open-end generation.\n"
     ]
    },
    {
     "name": "stdout",
     "output_type": "stream",
     "text": [
      "<s> [INST] What is your name? [/INST] I don't have a name. I'm just a computer program designed to assist with information\n"
     ]
    }
   ],
   "source": [
    "output = model.generate(input_ids=input_ids, max_new_tokens=20)\n",
    "print(tokenizer.decode(output[0]))"
   ]
  },
  {
   "cell_type": "code",
   "execution_count": 9,
   "metadata": {},
   "outputs": [],
   "source": [
    "# hacked transformers/modeling_utils/dtype_byte_size to make this work\n",
    "model.save_pretrained(\"mistral-fp8-static\")"
   ]
  },
  {
   "cell_type": "code",
   "execution_count": null,
   "metadata": {},
   "outputs": [],
   "source": [
    "mod"
   ]
  }
 ],
 "metadata": {
  "kernelspec": {
   "display_name": "env",
   "language": "python",
   "name": "python3"
  },
  "language_info": {
   "codemirror_mode": {
    "name": "ipython",
    "version": 3
   },
   "file_extension": ".py",
   "mimetype": "text/x-python",
   "name": "python",
   "nbconvert_exporter": "python",
   "pygments_lexer": "ipython3",
   "version": "3.11.7"
  }
 },
 "nbformat": 4,
 "nbformat_minor": 2
}
